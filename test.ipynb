{
 "cells": [
  {
   "cell_type": "code",
   "execution_count": null,
   "metadata": {},
   "outputs": [],
   "source": [
    "https://github.com/adamwigg/mlp/blob/67a07d802066d971a515b9032f3475709534a827"
   ]
  },
  {
   "cell_type": "code",
   "execution_count": 3,
   "metadata": {},
   "outputs": [
    {
     "data": {
      "text/plain": [
       "array([[0.54071185, 0.68867268, 0.04090079, 0.89523265, 0.05274965,\n",
       "        0.45178404, 0.20806419, 0.53719264]])"
      ]
     },
     "execution_count": 3,
     "metadata": {},
     "output_type": "execute_result"
    }
   ],
   "source": [
    "import numpy as np\n",
    "np.random.rand(1, 8)"
   ]
  },
  {
   "cell_type": "code",
   "execution_count": 10,
   "metadata": {},
   "outputs": [
    {
     "name": "stdout",
     "output_type": "stream",
     "text": [
      "accuracy: 0.75\n",
      "\n",
      "Confusion Matrix:\n",
      "Predicted  0  1  2\n",
      "Actual            \n",
      "0          7  4  0\n",
      "1          1  8  2\n",
      "2          1  0  1\n",
      "\n"
     ]
    },
    {
     "ename": "ValueError",
     "evalue": "Number of classes, 3, does not match size of target_names, 2. Try specifying the labels parameter",
     "output_type": "error",
     "traceback": [
      "\u001b[1;31m---------------------------------------------------------------------------\u001b[0m",
      "\u001b[1;31mValueError\u001b[0m                                Traceback (most recent call last)",
      "\u001b[1;32m<ipython-input-10-b6cc9e2a7ac7>\u001b[0m in \u001b[0;36m<module>\u001b[1;34m\u001b[0m\n\u001b[0;32m     50\u001b[0m \u001b[0mprint\u001b[0m\u001b[1;33m(\u001b[0m\u001b[0mreport_result_scores\u001b[0m\u001b[1;33m(\u001b[0m\u001b[0mr\u001b[0m\u001b[1;33m)\u001b[0m\u001b[1;33m)\u001b[0m\u001b[1;33m\u001b[0m\u001b[1;33m\u001b[0m\u001b[0m\n\u001b[0;32m     51\u001b[0m \u001b[1;33m\u001b[0m\u001b[0m\n\u001b[1;32m---> 52\u001b[1;33m \u001b[0mprint\u001b[0m\u001b[1;33m(\u001b[0m\u001b[0mclassification_report\u001b[0m\u001b[1;33m(\u001b[0m\u001b[0mx\u001b[0m\u001b[1;33m,\u001b[0m \u001b[0my\u001b[0m\u001b[1;33m,\u001b[0m \u001b[0mtarget_names\u001b[0m\u001b[1;33m=\u001b[0m\u001b[0mtarget_names\u001b[0m\u001b[1;33m)\u001b[0m\u001b[1;33m)\u001b[0m\u001b[1;33m\u001b[0m\u001b[1;33m\u001b[0m\u001b[0m\n\u001b[0m\u001b[0;32m     53\u001b[0m \u001b[1;33m\u001b[0m\u001b[0m\n",
      "\u001b[1;32m~\\AppData\\Local\\Programs\\Python\\Python39\\lib\\site-packages\\sklearn\\utils\\validation.py\u001b[0m in \u001b[0;36minner_f\u001b[1;34m(*args, **kwargs)\u001b[0m\n\u001b[0;32m     61\u001b[0m             \u001b[0mextra_args\u001b[0m \u001b[1;33m=\u001b[0m \u001b[0mlen\u001b[0m\u001b[1;33m(\u001b[0m\u001b[0margs\u001b[0m\u001b[1;33m)\u001b[0m \u001b[1;33m-\u001b[0m \u001b[0mlen\u001b[0m\u001b[1;33m(\u001b[0m\u001b[0mall_args\u001b[0m\u001b[1;33m)\u001b[0m\u001b[1;33m\u001b[0m\u001b[1;33m\u001b[0m\u001b[0m\n\u001b[0;32m     62\u001b[0m             \u001b[1;32mif\u001b[0m \u001b[0mextra_args\u001b[0m \u001b[1;33m<=\u001b[0m \u001b[1;36m0\u001b[0m\u001b[1;33m:\u001b[0m\u001b[1;33m\u001b[0m\u001b[1;33m\u001b[0m\u001b[0m\n\u001b[1;32m---> 63\u001b[1;33m                 \u001b[1;32mreturn\u001b[0m \u001b[0mf\u001b[0m\u001b[1;33m(\u001b[0m\u001b[1;33m*\u001b[0m\u001b[0margs\u001b[0m\u001b[1;33m,\u001b[0m \u001b[1;33m**\u001b[0m\u001b[0mkwargs\u001b[0m\u001b[1;33m)\u001b[0m\u001b[1;33m\u001b[0m\u001b[1;33m\u001b[0m\u001b[0m\n\u001b[0m\u001b[0;32m     64\u001b[0m \u001b[1;33m\u001b[0m\u001b[0m\n\u001b[0;32m     65\u001b[0m             \u001b[1;31m# extra_args > 0\u001b[0m\u001b[1;33m\u001b[0m\u001b[1;33m\u001b[0m\u001b[1;33m\u001b[0m\u001b[0m\n",
      "\u001b[1;32m~\\AppData\\Local\\Programs\\Python\\Python39\\lib\\site-packages\\sklearn\\metrics\\_classification.py\u001b[0m in \u001b[0;36mclassification_report\u001b[1;34m(y_true, y_pred, labels, target_names, sample_weight, digits, output_dict, zero_division)\u001b[0m\n\u001b[0;32m   1985\u001b[0m             )\n\u001b[0;32m   1986\u001b[0m         \u001b[1;32melse\u001b[0m\u001b[1;33m:\u001b[0m\u001b[1;33m\u001b[0m\u001b[1;33m\u001b[0m\u001b[0m\n\u001b[1;32m-> 1987\u001b[1;33m             raise ValueError(\n\u001b[0m\u001b[0;32m   1988\u001b[0m                 \u001b[1;34m\"Number of classes, {0}, does not match size of \"\u001b[0m\u001b[1;33m\u001b[0m\u001b[1;33m\u001b[0m\u001b[0m\n\u001b[0;32m   1989\u001b[0m                 \u001b[1;34m\"target_names, {1}. Try specifying the labels \"\u001b[0m\u001b[1;33m\u001b[0m\u001b[1;33m\u001b[0m\u001b[0m\n",
      "\u001b[1;31mValueError\u001b[0m: Number of classes, 3, does not match size of target_names, 2. Try specifying the labels parameter"
     ]
    }
   ],
   "source": [
    "import pandas as pd\n",
    "import numpy as np\n",
    "from sklearn.metrics import classification_report\n",
    "\n",
    "x = (0,1,0,1,1,1,1,1,0,1,0,1,0,2,0,1,0,1,0,0,0,2,0,1)\n",
    "y = (0,2,1,1,2,1,0,1,0,1,1,1,1,2,0,1,0,1,0,0,1,0,0,1)\n",
    "\n",
    "target_names = ['class 0', 'class 1']\n",
    "\n",
    "def confusion_matrix(y_actual, y_prediction) -> pd.DataFrame:\n",
    "    \"\"\"Confusion matrix using the pandas crosstab - returns a dataframe\"\"\"\n",
    "    df_confusion = pd.crosstab(\n",
    "        pd.Series(y_actual),\n",
    "        pd.Series(y_prediction),\n",
    "        rownames=[\"Actual\"],\n",
    "        colnames=[\"Predicted\"],\n",
    "        margins=False,\n",
    "    )\n",
    "    return df_confusion\n",
    "\n",
    "def report_result_scores(scores: dict) -> str:\n",
    "    \"\"\"Text summary of metrics and confusion matrix\"\"\"\n",
    "    report_text = \"\"\n",
    "    for key, value in scores.items():\n",
    "        if key != \"confusion_matrix\":\n",
    "            report_text += f\"{key}: {value:.2f}\\n\"\n",
    "    report_text += f\"\\nConfusion Matrix:\\n{scores['confusion_matrix'].to_string()}\\n\"\n",
    "    return report_text\n",
    "\n",
    "\n",
    "def macro_accuracy(y_actual, y_prediction) -> dict:\n",
    "    \"\"\"Score the predictions\"\"\"\n",
    "    tp = 0  # true positive\n",
    "    fp = 0  # false positive\n",
    "    tn = 0  # true negative\n",
    "    fn = 0  # false negative\n",
    "    cm = confusion_matrix(y_actual, y_prediction)\n",
    "    diagonal = pd.Series(np.diag(cm), index=[cm.index, cm.columns]).tolist()\n",
    "    for n in range(cm.shape[0]):\n",
    "        tp += diagonal[n]\n",
    "        tn += sum(diagonal) - diagonal[n]\n",
    "        fn += sum(cm.iloc[n, :].tolist()) - diagonal[n]\n",
    "        fp += sum(cm.iloc[:, n].tolist()) - diagonal[n]\n",
    "    accuracy = (tp + tn) / (tp + tn + fp + fn)\n",
    "    return accuracy\n",
    "\n",
    "r = score(x, y)\n",
    "print(report_result_scores(r))\n",
    "\n",
    "print(classification_report(x, y, target_names=target_names))\n",
    "\n"
   ]
  },
  {
   "cell_type": "code",
   "execution_count": 1,
   "metadata": {},
   "outputs": [
    {
     "name": "stdout",
     "output_type": "stream",
     "text": [
      "Logistic Regression accuracy :  0.505\n",
      "Loss  0  =  0.6931557167333594\n",
      "Loss  1000  =  0.05924973506022747\n",
      "Loss  2000  =  0.03689848775012151\n",
      "Loss  3000  =  0.03445888719010363\n",
      "Loss  4000  =  0.03060649266520345\n",
      "Neural Network accuracy :  0.99\n"
     ]
    },
    {
     "data": {
      "image/png": "[encoded data removed]",
      "text/plain": [
       "<Figure size 432x288 with 1 Axes>"
      ]
     },
     "metadata": {
      "needs_background": "light"
     },
     "output_type": "display_data"
    },
    {
     "data": {
      "image/png": "[encoded data removed]",
      "text/plain": [
       "<Figure size 432x288 with 1 Axes>"
      ]
     },
     "metadata": {
      "needs_background": "light"
     },
     "output_type": "display_data"
    },
    {
     "data": {
      "image/png": "[encoded data removed]",
      "text/plain": [
       "<Figure size 432x288 with 1 Axes>"
      ]
     },
     "metadata": {
      "needs_background": "light"
     },
     "output_type": "display_data"
    }
   ],
   "source": [
    "import numpy as np\n",
    "import sklearn\n",
    "import sklearn.datasets\n",
    "import sklearn.linear_model\n",
    "import matplotlib.pyplot as plt\n",
    "\n",
    "\n",
    "#np.random.seed(1)\n",
    "\n",
    "def load_data():\n",
    "    N = 200\n",
    "    gq = sklearn.datasets.make_gaussian_quantiles(mean=None, cov=0.7,\n",
    "                                                  n_samples=N, n_features=2,\n",
    "                                                  n_classes=2, shuffle=True,\n",
    "                                                  random_state=None)\n",
    "    return gq\n",
    "\n",
    "\n",
    "def sigmoid(x):\n",
    "    return 1.0 / (1.0 + np.exp(-x))\n",
    "\n",
    "    \n",
    "gaussian_quantiles = load_data()\n",
    "X, Y = gaussian_quantiles\n",
    "\n",
    "\n",
    "# Input Data\n",
    "plt.figure(\"Input Data\")\n",
    "plt.scatter(X[:, 0], X[:, 1], c=Y, s=40, cmap=plt.cm.Spectral)\n",
    "\n",
    "\n",
    "\n",
    "def show_predictions(model, X, Y, name=\"\"):\n",
    "    \"\"\" display the labeled data X and a surface of prediction of model \"\"\"\n",
    "    x_min, x_max = X[:, 0].min() - 1, X[:, 0].max() + 1\n",
    "    y_min, y_max = X[:, 1].min() - 1, X[:, 1].max() + 1\n",
    "    xx, yy = np.meshgrid(np.arange(x_min, x_max, 0.01), np.arange(y_min, y_max, 0.01))\n",
    "    X_temp = np.c_[xx.flatten(), yy.flatten()]\n",
    "    Z = model.predict(X_temp)\n",
    "    plt.figure(\"Predictions \" + name)\n",
    "    plt.contourf(xx, yy, Z.reshape(xx.shape), cmap=plt.cm.Spectral)\n",
    "    plt.ylabel('x2')\n",
    "    plt.xlabel('x1')\n",
    "    plt.scatter(X[:, 0], X[:, 1],c=Y, s=40, cmap=plt.cm.Spectral)\n",
    "\n",
    "    \n",
    "\n",
    "# Logisitc Regression\n",
    "clf = sklearn.linear_model.LogisticRegressionCV()\n",
    "clf.fit(X, Y)\n",
    "\n",
    "show_predictions(clf, X, Y, \"Logistic regression\")\n",
    "    \n",
    "LR_predictions = clf.predict(X)\n",
    "print(\"Logistic Regression accuracy : \", np.sum(LR_predictions == Y) / Y.shape[0])\n",
    "\n",
    "\n",
    "## Neural Network\n",
    "class Neural_Network:\n",
    "    def __init__(self, n_in, n_hidden, n_out):\n",
    "        # Network dimensions\n",
    "        self.n_x = n_in\n",
    "        self.n_h = n_hidden\n",
    "        self.n_y = n_out\n",
    "        \n",
    "        # Parameters initialization\n",
    "        self.W1 = np.random.randn(self.n_h, self.n_x) * 0.01\n",
    "        self.b1 = np.zeros((self.n_h, 1))\n",
    "        self.W2 = np.random.randn(self.n_y, self.n_h) * 0.01\n",
    "        self.b2 = np.zeros((self.n_y, 1))\n",
    "\n",
    "    def forward(self, X):\n",
    "        \"\"\" Forward computation \"\"\"\n",
    "        self.Z1 = self.W1.dot(X.T) + self.b1\n",
    "        self.A1 = np.tanh(self.Z1)\n",
    "        self.Z2 = self.W2.dot(self.A1) + self.b2\n",
    "        self.A2 = sigmoid(self.Z2)\n",
    "    \n",
    "    def back_prop(self,  X, Y):\n",
    "        \"\"\" Back-progagate gradient of the loss \"\"\"\n",
    "        m = X.shape[0]\n",
    "        self.dZ2 = self.A2 - Y\n",
    "        self.dW2 = (1 / m) * np.dot(self.dZ2, self.A1.T)\n",
    "        self.db2 = (1 / m) * np.sum(self.dZ2, axis=1, keepdims=True)\n",
    "        self.dZ1 = np.multiply(np.dot(self.W2.T, self.dZ2), 1 - np.power(self.A1, 2))\n",
    "        self.dW1 = (1 / m) * np.dot(self.dZ1, X)\n",
    "        self.db1 = (1 / m) * np.sum(self.dZ1, axis=1, keepdims=True)\n",
    "\n",
    "    def train(self, X, Y, epochs, learning_rate=1.2):\n",
    "        \"\"\" Complete process of learning, alternates forward pass,\n",
    "            backward pass and parameters update \"\"\"\n",
    "        m = X.shape[0]\n",
    "        for e in range(epochs):\n",
    "            self.forward(X)\n",
    "            loss = -np.sum(np.multiply(np.log(self.A2), Y) + np.multiply(np.log(1-self.A2),  (1 - Y))) / m\n",
    "            self.back_prop(X, Y)\n",
    "\n",
    "            self.W1 -= learning_rate * self.dW1\n",
    "            self.b1 -= learning_rate * self.db1\n",
    "            self.W2 -= learning_rate * self.dW2\n",
    "            self.b2 -= learning_rate * self.db2\n",
    "\n",
    "            if e % 1000 == 0:\n",
    "                print(\"Loss \",  e, \" = \", loss)\n",
    "\n",
    "    def predict(self, X):\n",
    "        \"\"\" Compute predictions with just a forward pass \"\"\"\n",
    "        self.forward(X)\n",
    "        return np.round(self.A2).astype(np.int)\n",
    "\n",
    "\n",
    "nn = Neural_Network(2, 10, 1)\n",
    "nn.train(X, Y, 5000, 1.2)\n",
    "\n",
    "show_predictions(nn, X, Y, \"Neural Network\")\n",
    "\n",
    "nn_predictions = nn.predict(X)\n",
    "print(\"Neural Network accuracy : \", np.sum(nn_predictions == Y) / Y.shape[0])"
   ]
  },
  {
   "cell_type": "code",
   "execution_count": 8,
   "metadata": {},
   "outputs": [
    {
     "name": "stdout",
     "output_type": "stream",
     "text": [
      "[0 1 2 3 1] [1 1 2 2 1]\n",
      "[0 1 2 3 1] [0 1 2 3 0]\n"
     ]
    },
    {
     "data": {
      "text/plain": [
       "([0.5833333333333333, 0.875], [1.0, 0.875], [0.6, 0.8])"
      ]
     },
     "execution_count": 8,
     "metadata": {},
     "output_type": "execute_result"
    }
   ],
   "source": [
    "import pandas as pd\n",
    "from sklearn.metrics import precision_score, recall_score, accuracy_score\n",
    "\n",
    "data1 = {'1':[0,1,2,3,1], '2':[0,1,2,3,1], '3':[0,1,2,3,1]}\n",
    "original= pd.DataFrame(data1)\n",
    "\n",
    "data2 = {'1':[0,1,2,3,0], '2':[1,1,2,2,1], '5':[0,1,2,3,3]}\n",
    "predect1 = pd.DataFrame(data2)\n",
    "\n",
    "# Get the set of columns of original dataset\n",
    "orig_col = set(original.columns)\n",
    "\n",
    "# Define the function to get all valeus\n",
    "def get_all(pred, orig):\n",
    "    # Get the set of columns in pred\n",
    "    pred_col = set(pred.columns)\n",
    "    # Get the columns which are present in both\n",
    "    check_col = orig_col.intersection(pred_col)\n",
    "\n",
    "    # List to return\n",
    "    recalls = []\n",
    "    precisions = []\n",
    "    accuracies = []\n",
    "   \n",
    "    # iterate on each column to check\n",
    "    for col in check_col:\n",
    "        print(orig[col].values, pred[col].values)\n",
    "        precisions.append(precision_score(orig[col].values, pred[col].values, average='macro', labels=np.unique(pred[col].values)))\n",
    "        recalls.append(recall_score(orig[col].values, pred[col].values, average='macro', labels=np.unique(pred[col].values)))\n",
    "        accuracies.append(accuracy_score(orig[col].values, pred[col].values))\n",
    "\n",
    "    # return the values\n",
    "    return precisions, recalls, accuracies\n",
    "\n",
    "# Finally run the function\n",
    "get_all(predect1, original)"
   ]
  },
  {
   "cell_type": "code",
   "execution_count": 10,
   "metadata": {},
   "outputs": [
    {
     "data": {
      "text/plain": [
       "array([[0.73105858, 0.88079708, 0.95257413],\n",
       "       [0.98201379, 0.99330715, 0.99752738]])"
      ]
     },
     "execution_count": 10,
     "metadata": {},
     "output_type": "execute_result"
    }
   ],
   "source": [
    "import numpy as np\n",
    "import math\n",
    "\n",
    "mmatrix= np.array([[1,2,3],[4,5,6]])\n",
    "\n",
    "#sigmoid function\n",
    "def sigmoid(X):\n",
    "   return 1/(1+np.exp(-X))\n",
    "#Example with mmatrix defined above\n",
    "sigmoid(mmatrix)\n"
   ]
  },
  {
   "cell_type": "code",
   "execution_count": 8,
   "metadata": {},
   "outputs": [
    {
     "name": "stdout",
     "output_type": "stream",
     "text": [
      "💻 Finished.\n"
     ]
    }
   ],
   "source": [
    "print(f\"\\U0001F4BB Finished.\")"
   ]
  },
  {
   "cell_type": "code",
   "execution_count": 4,
   "metadata": {},
   "outputs": [
    {
     "name": "stdout",
     "output_type": "stream",
     "text": [
      "(('input', 1, 4), ('hidden', 4, 8, 'act'), ('hidden', 8, 8, 'act'), ('output', 8, 4, 'act'))\n",
      "((('input', 1, 4), ('hidden', 4, 8, 'act'), ('hidden', 8, 8, 'act'), ('output', 8, 4, 'act')),)\n",
      "input 1 4 []\n",
      "hidden 4 8 ['act']\n",
      "hidden 8 8 ['act']\n",
      "output 8 4 ['act']\n"
     ]
    }
   ],
   "source": [
    "def arg_test(*args):\n",
    "    for l in args:\n",
    "        print(l)\n",
    "    print(args)\n",
    "\n",
    "arg_list = (\n",
    "    # Layer parameters: name, nodes, activation\n",
    "    (\"input\", 1, 4),\n",
    "    (\"hidden\", 4, 8, 'act'),\n",
    "    (\"hidden\", 8, 8, 'act'),\n",
    "    (\"output\", 8, 4, 'act')\n",
    ")\n",
    "arg_test(arg_list)\n",
    "\n",
    "for arg in arg_list:\n",
    "    name, x_none, y_node, *act = arg\n",
    "    print(name, x_none, y_node, act)\n"
   ]
  },
  {
   "cell_type": "code",
   "execution_count": 20,
   "metadata": {},
   "outputs": [
    {
     "data": {
      "text/plain": [
       "array([[4.9, 3. , 1.4, 0.2, 0. ],\n",
       "       [4.7, 3.2, 1.3, 0.2, 0. ],\n",
       "       [4.6, 3.1, 1.5, 0.2, 0. ],\n",
       "       [5. , 3.6, 1.4, 0.2, 0. ],\n",
       "       [5.4, 3.9, 1.7, 0.4, 0. ],\n",
       "       [4.6, 3.4, 1.4, 0.3, 0. ],\n",
       "       [5. , 3.4, 1.5, 0.2, 0. ],\n",
       "       [4.4, 2.9, 1.4, 0.2, 0. ],\n",
       "       [4.9, 3.1, 1.5, 0.1, 0. ],\n",
       "       [5.4, 3.7, 1.5, 0.2, 0. ],\n",
       "       [4.8, 3.4, 1.6, 0.2, 0. ],\n",
       "       [4.8, 3. , 1.4, 0.1, 0. ],\n",
       "       [4.3, 3. , 1.1, 0.1, 0. ],\n",
       "       [5.8, 4. , 1.2, 0.2, 0. ],\n",
       "       [5.7, 4.4, 1.5, 0.4, 0. ],\n",
       "       [5.4, 3.9, 1.3, 0.4, 0. ],\n",
       "       [5.1, 3.5, 1.4, 0.3, 0. ],\n",
       "       [5.7, 3.8, 1.7, 0.3, 0. ],\n",
       "       [5.1, 3.8, 1.5, 0.3, 0. ],\n",
       "       [5.4, 3.4, 1.7, 0.2, 0. ],\n",
       "       [5.1, 3.7, 1.5, 0.4, 0. ],\n",
       "       [4.6, 3.6, 1. , 0.2, 0. ],\n",
       "       [5.1, 3.3, 1.7, 0.5, 0. ],\n",
       "       [4.8, 3.4, 1.9, 0.2, 0. ],\n",
       "       [5. , 3. , 1.6, 0.2, 0. ],\n",
       "       [5. , 3.4, 1.6, 0.4, 0. ],\n",
       "       [5.2, 3.5, 1.5, 0.2, 0. ],\n",
       "       [5.2, 3.4, 1.4, 0.2, 0. ],\n",
       "       [4.7, 3.2, 1.6, 0.2, 0. ],\n",
       "       [4.8, 3.1, 1.6, 0.2, 0. ],\n",
       "       [5.4, 3.4, 1.5, 0.4, 0. ],\n",
       "       [5.2, 4.1, 1.5, 0.1, 0. ],\n",
       "       [5.5, 4.2, 1.4, 0.2, 0. ],\n",
       "       [4.9, 3.1, 1.5, 0.1, 0. ],\n",
       "       [5. , 3.2, 1.2, 0.2, 0. ],\n",
       "       [5.5, 3.5, 1.3, 0.2, 0. ],\n",
       "       [4.9, 3.1, 1.5, 0.1, 0. ],\n",
       "       [4.4, 3. , 1.3, 0.2, 0. ],\n",
       "       [5.1, 3.4, 1.5, 0.2, 0. ],\n",
       "       [5. , 3.5, 1.3, 0.3, 0. ],\n",
       "       [4.5, 2.3, 1.3, 0.3, 0. ],\n",
       "       [4.4, 3.2, 1.3, 0.2, 0. ],\n",
       "       [5. , 3.5, 1.6, 0.6, 0. ],\n",
       "       [5.1, 3.8, 1.9, 0.4, 0. ],\n",
       "       [4.8, 3. , 1.4, 0.3, 0. ],\n",
       "       [5.1, 3.8, 1.6, 0.2, 0. ],\n",
       "       [4.6, 3.2, 1.4, 0.2, 0. ],\n",
       "       [5.3, 3.7, 1.5, 0.2, 0. ],\n",
       "       [5. , 3.3, 1.4, 0.2, 0. ],\n",
       "       [7. , 3.2, 4.7, 1.4, 1. ],\n",
       "       [6.4, 3.2, 4.5, 1.5, 1. ],\n",
       "       [6.9, 3.1, 4.9, 1.5, 1. ],\n",
       "       [5.5, 2.3, 4. , 1.3, 1. ],\n",
       "       [6.5, 2.8, 4.6, 1.5, 1. ],\n",
       "       [5.7, 2.8, 4.5, 1.3, 1. ],\n",
       "       [6.3, 3.3, 4.7, 1.6, 1. ],\n",
       "       [4.9, 2.4, 3.3, 1. , 1. ],\n",
       "       [6.6, 2.9, 4.6, 1.3, 1. ],\n",
       "       [5.2, 2.7, 3.9, 1.4, 1. ],\n",
       "       [5. , 2. , 3.5, 1. , 1. ],\n",
       "       [5.9, 3. , 4.2, 1.5, 1. ],\n",
       "       [6. , 2.2, 4. , 1. , 1. ],\n",
       "       [6.1, 2.9, 4.7, 1.4, 1. ],\n",
       "       [5.6, 2.9, 3.6, 1.3, 1. ],\n",
       "       [6.7, 3.1, 4.4, 1.4, 1. ],\n",
       "       [5.6, 3. , 4.5, 1.5, 1. ],\n",
       "       [5.8, 2.7, 4.1, 1. , 1. ],\n",
       "       [6.2, 2.2, 4.5, 1.5, 1. ],\n",
       "       [5.6, 2.5, 3.9, 1.1, 1. ],\n",
       "       [5.9, 3.2, 4.8, 1.8, 1. ],\n",
       "       [6.1, 2.8, 4. , 1.3, 1. ],\n",
       "       [6.3, 2.5, 4.9, 1.5, 1. ],\n",
       "       [6.1, 2.8, 4.7, 1.2, 1. ],\n",
       "       [6.4, 2.9, 4.3, 1.3, 1. ],\n",
       "       [6.6, 3. , 4.4, 1.4, 1. ],\n",
       "       [6.8, 2.8, 4.8, 1.4, 1. ],\n",
       "       [6.7, 3. , 5. , 1.7, 1. ],\n",
       "       [6. , 2.9, 4.5, 1.5, 1. ],\n",
       "       [5.7, 2.6, 3.5, 1. , 1. ],\n",
       "       [5.5, 2.4, 3.8, 1.1, 1. ],\n",
       "       [5.5, 2.4, 3.7, 1. , 1. ],\n",
       "       [5.8, 2.7, 3.9, 1.2, 1. ],\n",
       "       [6. , 2.7, 5.1, 1.6, 1. ],\n",
       "       [5.4, 3. , 4.5, 1.5, 1. ],\n",
       "       [6. , 3.4, 4.5, 1.6, 1. ],\n",
       "       [6.7, 3.1, 4.7, 1.5, 1. ],\n",
       "       [6.3, 2.3, 4.4, 1.3, 1. ],\n",
       "       [5.6, 3. , 4.1, 1.3, 1. ],\n",
       "       [5.5, 2.5, 4. , 1.3, 1. ],\n",
       "       [5.5, 2.6, 4.4, 1.2, 1. ],\n",
       "       [6.1, 3. , 4.6, 1.4, 1. ],\n",
       "       [5.8, 2.6, 4. , 1.2, 1. ],\n",
       "       [5. , 2.3, 3.3, 1. , 1. ],\n",
       "       [5.6, 2.7, 4.2, 1.3, 1. ],\n",
       "       [5.7, 3. , 4.2, 1.2, 1. ],\n",
       "       [5.7, 2.9, 4.2, 1.3, 1. ],\n",
       "       [6.2, 2.9, 4.3, 1.3, 1. ],\n",
       "       [5.1, 2.5, 3. , 1.1, 1. ],\n",
       "       [5.7, 2.8, 4.1, 1.3, 1. ],\n",
       "       [6.3, 3.3, 6. , 2.5, 2. ],\n",
       "       [5.8, 2.7, 5.1, 1.9, 2. ],\n",
       "       [7.1, 3. , 5.9, 2.1, 2. ],\n",
       "       [6.3, 2.9, 5.6, 1.8, 2. ],\n",
       "       [6.5, 3. , 5.8, 2.2, 2. ],\n",
       "       [7.6, 3. , 6.6, 2.1, 2. ],\n",
       "       [4.9, 2.5, 4.5, 1.7, 2. ],\n",
       "       [7.3, 2.9, 6.3, 1.8, 2. ],\n",
       "       [6.7, 2.5, 5.8, 1.8, 2. ],\n",
       "       [7.2, 3.6, 6.1, 2.5, 2. ],\n",
       "       [6.5, 3.2, 5.1, 2. , 2. ],\n",
       "       [6.4, 2.7, 5.3, 1.9, 2. ],\n",
       "       [6.8, 3. , 5.5, 2.1, 2. ],\n",
       "       [5.7, 2.5, 5. , 2. , 2. ],\n",
       "       [5.8, 2.8, 5.1, 2.4, 2. ],\n",
       "       [6.4, 3.2, 5.3, 2.3, 2. ],\n",
       "       [6.5, 3. , 5.5, 1.8, 2. ],\n",
       "       [7.7, 3.8, 6.7, 2.2, 2. ],\n",
       "       [7.7, 2.6, 6.9, 2.3, 2. ],\n",
       "       [6. , 2.2, 5. , 1.5, 2. ],\n",
       "       [6.9, 3.2, 5.7, 2.3, 2. ],\n",
       "       [5.6, 2.8, 4.9, 2. , 2. ],\n",
       "       [7.7, 2.8, 6.7, 2. , 2. ],\n",
       "       [6.3, 2.7, 4.9, 1.8, 2. ],\n",
       "       [6.7, 3.3, 5.7, 2.1, 2. ],\n",
       "       [7.2, 3.2, 6. , 1.8, 2. ],\n",
       "       [6.2, 2.8, 4.8, 1.8, 2. ],\n",
       "       [6.1, 3. , 4.9, 1.8, 2. ],\n",
       "       [6.4, 2.8, 5.6, 2.1, 2. ],\n",
       "       [7.2, 3. , 5.8, 1.6, 2. ],\n",
       "       [7.4, 2.8, 6.1, 1.9, 2. ],\n",
       "       [7.9, 3.8, 6.4, 2. , 2. ],\n",
       "       [6.4, 2.8, 5.6, 2.2, 2. ],\n",
       "       [6.3, 2.8, 5.1, 1.5, 2. ],\n",
       "       [6.1, 2.6, 5.6, 1.4, 2. ],\n",
       "       [7.7, 3. , 6.1, 2.3, 2. ],\n",
       "       [6.3, 3.4, 5.6, 2.4, 2. ],\n",
       "       [6.4, 3.1, 5.5, 1.8, 2. ],\n",
       "       [6. , 3. , 4.8, 1.8, 2. ],\n",
       "       [6.9, 3.1, 5.4, 2.1, 2. ],\n",
       "       [6.7, 3.1, 5.6, 2.4, 2. ],\n",
       "       [6.9, 3.1, 5.1, 2.3, 2. ],\n",
       "       [5.8, 2.7, 5.1, 1.9, 2. ],\n",
       "       [6.8, 3.2, 5.9, 2.3, 2. ],\n",
       "       [6.7, 3.3, 5.7, 2.5, 2. ],\n",
       "       [6.7, 3. , 5.2, 2.3, 2. ],\n",
       "       [6.3, 2.5, 5. , 1.9, 2. ],\n",
       "       [6.5, 3. , 5.2, 2. , 2. ],\n",
       "       [6.2, 3.4, 5.4, 2.3, 2. ],\n",
       "       [5.9, 3. , 5.1, 1.8, 2. ]])"
      ]
     },
     "execution_count": 20,
     "metadata": {},
     "output_type": "execute_result"
    }
   ],
   "source": [
    "import pandas as pd\n",
    "import csv\n",
    "df = pd.read_csv(\"data/iris_str.csv\", header=0, delimiter=',') \n",
    "classes = df.iloc[:,-1].unique().tolist()\n",
    "df.iloc[:,-1] = df.iloc[:,-1].apply(lambda c: classes.index(c))\n",
    "new_data = df.to_numpy()\n",
    "\n",
    "new_data"
   ]
  },
  {
   "cell_type": "code",
   "execution_count": 1,
   "metadata": {},
   "outputs": [
    {
     "data": {
      "text/plain": [
       "<itertools.product at 0x1accf1c3480>"
      ]
     },
     "execution_count": 1,
     "metadata": {},
     "output_type": "execute_result"
    }
   ],
   "source": [
    "import itertools\n",
    "\n",
    "l1 = ['a', 'b', 'c']\n",
    "l2 = [1]\n",
    "l3 = ['zz', 'yy']\n",
    "\n",
    "itertools.product(*[l1, l2, l3])\n"
   ]
  },
  {
   "cell_type": "code",
   "execution_count": 5,
   "metadata": {},
   "outputs": [
    {
     "name": "stdout",
     "output_type": "stream",
     "text": [
      "['cat' 'dog' 'hamster'] <class 'numpy.ndarray'>\n",
      "[[0. 1. 0.]\n",
      " [0. 1. 0.]\n",
      " [1. 0. 0.]\n",
      " [1. 0. 0.]\n",
      " [1. 0. 0.]\n",
      " [0. 1. 0.]\n",
      " [0. 1. 0.]\n",
      " [1. 0. 0.]\n",
      " [1. 0. 0.]\n",
      " [0. 0. 1.]\n",
      " [0. 0. 1.]]\n",
      "['cat' 'dog' 'hamster'] <class 'numpy.ndarray'>\n",
      "<class 'numpy.ndarray'>\n"
     ]
    }
   ],
   "source": [
    "import numpy as np\n",
    "\n",
    "target = np.array(['dog', 'dog', 'cat', 'cat', 'cat', 'dog', 'dog', \n",
    "    'cat', 'cat', 'hamster', 'hamster'])\n",
    "\n",
    "def one_hot(array):\n",
    "    unique, inverse = np.unique(array, return_inverse=True)\n",
    "    print(unique, type(unique))\n",
    "    onehot = np.eye(unique.shape[0])[inverse]\n",
    "    return onehot\n",
    "\n",
    "print(one_hot(target))\n",
    "print(type(one_hot(target)))"
   ]
  },
  {
   "cell_type": "code",
   "execution_count": 6,
   "metadata": {},
   "outputs": [],
   "source": [
    "class Dataset:\n",
    "    \"\"\"\n",
    "    Contains a set of data and the test, train, validation sets.\n",
    "    \"\"\"\n",
    "    data: 'np.ndarray[float]' = []\n",
    "    target_idx: int = -1  # Default to last\n",
    "\n",
    "    def __repr__(self) -> str:\n",
    "        \"\"\"Pretty string of an array\"\"\"\n",
    "        return np.array2string(self.data, formatter={'float_kind':lambda x: \"%.4f\" % x})\n"
   ]
  },
  {
   "cell_type": "code",
   "execution_count": 2,
   "metadata": {},
   "outputs": [
    {
     "name": "stdout",
     "output_type": "stream",
     "text": [
      "{'data_file': 'data/my_data.csv', 'data_seperator': ' ', 'header_rows': 0, 'random_seed': 2021, 'train_test_split': (0.33, 0.33), 'target': -1, 'normalize_values': (-1, 1), 'normalize_range': (0, -1), 'input_nodes': 12, 'output_nodes': 3, 'hidden_layers': 2, 'activator': 'ann.Softmax', 'eta': [0.1], 'hidden_nodes': [8], 'max_epochs': [150]}\n"
     ]
    }
   ],
   "source": [
    "config = {\n",
    "    # Setup\n",
    "    \"data_file\": 'data/my_data.csv',  # Relative filepath to csv file\n",
    "    \"data_seperator\": ' ',  # Usually ' ' or ','\n",
    "    \"header_rows\": 0,  # Number of rows to ignore at start of file for header\n",
    "    \"random_seed\": 2021,  # Used to initiate the numpy random generator\n",
    "\n",
    "    # Dataset\n",
    "    \"train_test_split\": (.33, .33), # val is remaining, if test = 0 will use '66/33' method\n",
    "    \"target\": -1,  # Target index, -1 being last column\n",
    "    \"normalize_values\": (-1, 1),  # Min and Max values\n",
    "    \"normalize_range\": (0, -1),  # Index range to normalize, 'None' to skip normalisation\n",
    "\n",
    "    # Model settings\n",
    "    \"input_nodes\": 12,  # Number of input values (features)\n",
    "    \"output_nodes\": 3,  # Number of output values (classes)\n",
    "    \"hidden_layers\": 2,  # Number of hidden layers\n",
    "    \"activator\": 'ann.Softmax',  # alternatives: ann.Relu, ann.Sigmoid\n",
    "\n",
    "    # Parameters - multiple values in the list create a grid search\n",
    "    \"eta\": [0.1],  # Training rate\n",
    "    \"hidden_nodes\": [8],  # Hidden nodes\n",
    "    \"max_epochs\": [150],  # Number of epochs to train\n",
    "}\n",
    "\n",
    "print(config)"
   ]
  }
 ],
 "metadata": {
  "interpreter": {
   "hash": "1482548d84cd7364095636d674edf388250952b5e53e00df7916bd6a74ee53b5"
  },
  "kernelspec": {
   "display_name": "Python 3.9.1 64-bit",
   "name": "python3"
  },
  "language_info": {
   "codemirror_mode": {
    "name": "ipython",
    "version": 3
   },
   "file_extension": ".py",
   "mimetype": "text/x-python",
   "name": "python",
   "nbconvert_exporter": "python",
   "pygments_lexer": "ipython3",
   "version": "3.9.1"
  },
  "orig_nbformat": 4
 },
 "nbformat": 4,
 "nbformat_minor": 2
}
